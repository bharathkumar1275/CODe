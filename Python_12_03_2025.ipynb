{
  "nbformat": 4,
  "nbformat_minor": 0,
  "metadata": {
    "colab": {
      "provenance": []
    },
    "kernelspec": {
      "name": "python3",
      "display_name": "Python 3"
    },
    "language_info": {
      "name": "python"
    }
  },
  "cells": [
    {
      "cell_type": "markdown",
      "source": [
        "# Simple Calculator\n"
      ],
      "metadata": {
        "id": "72PqUlwMSTp3"
      }
    },
    {
      "cell_type": "code",
      "execution_count": 1,
      "metadata": {
        "colab": {
          "base_uri": "https://localhost:8080/"
        },
        "id": "XylrguVKORR6",
        "outputId": "7196eb6e-69f1-4984-b181-c373f4dc152e"
      },
      "outputs": [
        {
          "output_type": "execute_result",
          "data": {
            "text/plain": [
              "7"
            ]
          },
          "metadata": {},
          "execution_count": 1
        }
      ],
      "source": [
        "a=2\n",
        "b=5\n",
        "a+b"
      ]
    },
    {
      "cell_type": "code",
      "source": [
        "def add(x,y):\n",
        "  return x+y\n",
        "def subtract(x,y):\n",
        "  return x-y\n",
        "def multiply(x,y):\n",
        "  return x*y\n",
        "def divide(x,y):\n",
        "    if y!=0:\n",
        "       return x/y\n",
        "    else:\n",
        "      return \"Error! Division by Zero.\"\n",
        "def calculator():\n",
        "  print(\"Simple Calculator\")\n",
        "  print(\"Choose operation:\")\n",
        "  print(\"1.Add\")\n",
        "  print(\"2.Subtract\")\n",
        "  print(\"3.Multiply\")\n",
        "  print(\"4.Divide\")\n",
        "\n",
        "  while True:\n",
        "    choice = input(\"Enter choice (1/2/3/4): \")\n",
        "\n",
        "    if choice in ['1', '2', '3', '4']:\n",
        "      num1 = float(input(\"Enter first number: \"))\n",
        "      num2 = float(input(\"Enter second number: \"))\n",
        "\n",
        "      if choice == '1':\n",
        "        print(f\" result is : {add(num1, num2)}\")\n",
        "      elif choice == '2':\n",
        "        print(f\" result is : {subtract(num1, num2)}\")\n",
        "      elif choice == '3':\n",
        "        print(f\" result is : {multiply(num1, num2)}\")\n",
        "      elif choice == '4':\n",
        "        print(f\" result is : {divide(num1, num2)}\")\n",
        "      next_calculation = input(\"Do you want to perform another calculation ?(yes/no)\")\n",
        "      if next_calculation.lower() !='yes':\n",
        "          break\n",
        "  else:\n",
        "      print(\"Invalid Input\")\n",
        "      #run the calculator\n",
        "calculator()"
      ],
      "metadata": {
        "colab": {
          "base_uri": "https://localhost:8080/"
        },
        "id": "jFaP8XMhQ63U",
        "outputId": "f3257cc4-7d0b-4c77-ee8d-5a0697c21017"
      },
      "execution_count": 25,
      "outputs": [
        {
          "name": "stdout",
          "output_type": "stream",
          "text": [
            "Simple Calculator\n",
            "Choose operation:\n",
            "1.Add\n",
            "2.Subtract\n",
            "3.Multiply\n",
            "4.Divide\n",
            "Enter choice (1/2/3/4): 2\n",
            "Enter first number: 6\n",
            "Enter second number: 32\n",
            " result is : -26.0\n",
            "Do you want to perform another calculation ?(yes/no)no\n"
          ]
        }
      ]
    },
    {
      "cell_type": "code",
      "source": [],
      "metadata": {
        "id": "F3e-410RX0J5"
      },
      "execution_count": 15,
      "outputs": []
    }
  ]
}